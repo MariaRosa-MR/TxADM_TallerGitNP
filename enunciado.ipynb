{
 "cells": [
  {
   "cell_type": "markdown",
   "metadata": {},
   "source": [
    "# 2. Taller de git\n",
    "## 2.1 \"Versiones y más versiones\"\n",
    "\n",
    "Un cliente no está muy seguro del aplicativo/estudio que quiere. Por ello, vas a presentarle sobre un mismo problema diferentes estudios. Cada uno de ellos quedará registrado en una rama del repositorio. En algunos casos, habrá ramas de ramas. Quizás de esta manera dispondrá de un portafolio más organizado con todas las pruebas.\n",
    "\n",
    "Hay dos tipos de celdas de código. Las celdas de la rama principal (*rama main*) y las que formarán parte de cada rama (rama1, rama2, etc) o subramas (rama1_1, rama1_2,etc.)\n",
    "En el repositorio la rama principal sólo debería de contener el código de las celdas *rama main*.\n",
    "Lo mismo ocurre con las ramas, solo contendrán el código de las respectivas celdas. Por tanto, al separar las celdas de este notebook en otros notebooks, éstos no funcionarán. Las ramas no tienen porque tener código funcional. Esto es solo un ejercicio de git.\n"
   ]
  },
  {
   "cell_type": "code",
   "execution_count": 5,
   "metadata": {},
   "outputs": [],
   "source": [
    "# Rama main\n",
    "import matplotlib.pyplot as plt\n",
    "import numpy as np\n",
    "from sklearn.datasets import make_classification\n",
    "from sklearn.model_selection import train_test_split"
   ]
  },
  {
   "cell_type": "code",
   "execution_count": 12,
   "metadata": {},
   "outputs": [
    {
     "name": "stdout",
     "output_type": "stream",
     "text": [
      "[[-1.12990701  1.26454842 -0.39207059 -2.40487258 -0.28255627 -0.47978774\n",
      "   0.45595664  1.47238863  2.4069317   0.17574355]\n",
      " [-0.14766863  4.4771355   0.05091363 -1.8440561  -0.63978072 -1.59651171\n",
      "  -1.18381673  1.49760723 -4.56280579  1.41090996]\n",
      " [ 0.8346207   0.19037916  1.59353016 -2.98615269 -0.25755166 -0.5179847\n",
      "  -1.34318352  3.81680002 -1.26458299 -0.3279679 ]]\n",
      "[3 2 2 1 2 0 1 3 1 1]\n"
     ]
    }
   ],
   "source": [
    "# Rama main\n",
    "X, y = make_classification(n_samples=1000, n_features=10, n_redundant=0, n_informative=4, n_classes=4, random_state=2023)\n",
    "\n",
    "X_train, X_test, y_train, y_test = train_test_split(\n",
    "    X, y, test_size=0.4, random_state=42\n",
    ")\n",
    "\n",
    "print(X_train[:3])\n",
    "print(y_train[:10])"
   ]
  },
  {
   "cell_type": "code",
   "execution_count": 13,
   "metadata": {},
   "outputs": [
    {
     "name": "stdout",
     "output_type": "stream",
     "text": [
      "0.65\n"
     ]
    }
   ],
   "source": [
    "# rama1\n",
    "from sklearn.neighbors import KNeighborsClassifier\n",
    "model = KNeighborsClassifier(4)\n",
    "model.fit(X_train, y_train)\n",
    "score = model.score(X_test, y_test)\n",
    "print(score)"
   ]
  },
  {
   "cell_type": "code",
   "execution_count": 18,
   "metadata": {},
   "outputs": [
    {
     "name": "stdout",
     "output_type": "stream",
     "text": [
      "0.6525\n"
     ]
    }
   ],
   "source": [
    "# rama2\n",
    "from sklearn.tree import DecisionTreeClassifier\n",
    "model = DecisionTreeClassifier(max_depth=10, random_state=42)\n",
    "model.fit(X_train, y_train)\n",
    "score = model.score(X_test, y_test)\n",
    "print(score)"
   ]
  },
  {
   "cell_type": "code",
   "execution_count": 19,
   "metadata": {},
   "outputs": [
    {
     "name": "stdout",
     "output_type": "stream",
     "text": [
      "0.645\n"
     ]
    }
   ],
   "source": [
    "# rama2_1\n",
    "from sklearn.tree import DecisionTreeClassifier\n",
    "model = DecisionTreeClassifier(max_depth=15, random_state=42)\n",
    "model.fit(X_train, y_train)\n",
    "score = model.score(X_test, y_test)\n",
    "print(score)"
   ]
  },
  {
   "cell_type": "code",
   "execution_count": 20,
   "metadata": {},
   "outputs": [
    {
     "name": "stdout",
     "output_type": "stream",
     "text": [
      "0.6825\n"
     ]
    }
   ],
   "source": [
    "# rama2_2\n",
    "from sklearn.tree import DecisionTreeClassifier\n",
    "model = DecisionTreeClassifier(max_depth=5, random_state=42)\n",
    "model.fit(X_train, y_train)\n",
    "score = model.score(X_test, y_test)\n",
    "print(score)"
   ]
  },
  {
   "cell_type": "code",
   "execution_count": 21,
   "metadata": {},
   "outputs": [
    {
     "name": "stdout",
     "output_type": "stream",
     "text": [
      "0.5025\n"
     ]
    }
   ],
   "source": [
    "# rama3\n",
    "from sklearn.ensemble import AdaBoostClassifier\n",
    "model = AdaBoostClassifier(random_state=42)\n",
    "model.fit(X_train, y_train)\n",
    "score = model.score(X_test, y_test)\n",
    "print(score)"
   ]
  },
  {
   "cell_type": "markdown",
   "metadata": {},
   "source": [
    "## 2.2 Rama por defecto\n",
    "Haz que la rama por defecto del repositorio github sea la rama3"
   ]
  },
  {
   "cell_type": "markdown",
   "metadata": {},
   "source": [
    "## 2.3 Cambio de rama \n",
    "\n",
    "Haz que la rama2_2 cuelgue de la rama3. No hace falta cambiarla el nombre."
   ]
  }
 ],
 "metadata": {
  "kernelspec": {
   "display_name": "my397",
   "language": "python",
   "name": "python3"
  },
  "language_info": {
   "codemirror_mode": {
    "name": "ipython",
    "version": 3
   },
   "file_extension": ".py",
   "mimetype": "text/x-python",
   "name": "python",
   "nbconvert_exporter": "python",
   "pygments_lexer": "ipython3",
   "version": "3.11.0rc2"
  }
 },
 "nbformat": 4,
 "nbformat_minor": 2
}
