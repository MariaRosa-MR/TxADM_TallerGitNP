{
 "cells": [
  {
   "cell_type": "code",
   "execution_count": null,
   "id": "45ca096d-c3fd-4893-aa69-33c52284e0cb",
   "metadata": {},
   "outputs": [],
   "source": [
    "# Rama main\n",
    "import matplotlib.pyplot as plt\n",
    "import numpy as np\n",
    "from sklearn.datasets import make_classification\n",
    "from sklearn.model_selection import train_test_split\n",
    "\n",
    "# Rama main\n",
    "X, y = make_classification(n_samples=1000, n_features=10, n_redundant=0, n_informative=4, n_classes=4, random_state=2023)\n",
    "\n",
    "X_train, X_test, y_train, y_test = train_test_split(\n",
    "    X, y, test_size=0.4, random_state=42\n",
    ")\n",
    "\n",
    "print(X_train[:3])\n",
    "print(y_train[:10])"
   ]
  }
 ],
 "metadata": {
  "kernelspec": {
   "display_name": "Python 3 (ipykernel)",
   "language": "python",
   "name": "python3"
  },
  "language_info": {
   "codemirror_mode": {
    "name": "ipython",
    "version": 3
   },
   "file_extension": ".py",
   "mimetype": "text/x-python",
   "name": "python",
   "nbconvert_exporter": "python",
   "pygments_lexer": "ipython3",
   "version": "3.12.0"
  }
 },
 "nbformat": 4,
 "nbformat_minor": 5
}
